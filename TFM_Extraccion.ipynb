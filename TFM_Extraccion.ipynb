{
 "cells": [
  {
   "cell_type": "code",
   "execution_count": 1,
   "id": "20078e90-5ec8-4906-9927-349811321124",
   "metadata": {},
   "outputs": [
    {
     "name": "stdout",
     "output_type": "stream",
     "text": [
      "Defaulting to user installation because normal site-packages is not writeable\n",
      "Requirement already satisfied: pandas in c:\\users\\big data\\appdata\\roaming\\python\\python312\\site-packages (2.3.0)\n",
      "Requirement already satisfied: numpy>=1.26.0 in c:\\users\\big data\\appdata\\roaming\\python\\python312\\site-packages (from pandas) (2.3.0)\n",
      "Requirement already satisfied: python-dateutil>=2.8.2 in c:\\programdata\\anaconda3\\envs\\tfm\\lib\\site-packages (from pandas) (2.9.0.post0)\n",
      "Requirement already satisfied: pytz>=2020.1 in c:\\users\\big data\\appdata\\roaming\\python\\python312\\site-packages (from pandas) (2025.2)\n",
      "Requirement already satisfied: tzdata>=2022.7 in c:\\users\\big data\\appdata\\roaming\\python\\python312\\site-packages (from pandas) (2025.2)\n",
      "Requirement already satisfied: six>=1.5 in c:\\programdata\\anaconda3\\envs\\tfm\\lib\\site-packages (from python-dateutil>=2.8.2->pandas) (1.17.0)\n"
     ]
    }
   ],
   "source": [
    "!pip install pandas"
   ]
  },
  {
   "cell_type": "code",
   "execution_count": 2,
   "id": "656e84eb-6253-4095-bbe7-99970ff59265",
   "metadata": {},
   "outputs": [],
   "source": [
    "import pandas as pd\n",
    "import requests\n",
    "import time"
   ]
  },
  {
   "cell_type": "code",
   "execution_count": 3,
   "id": "0ac7bcd7-17eb-4dfd-838a-2764613b6019",
   "metadata": {},
   "outputs": [],
   "source": [
    "URL_FICHERO_API_KEY = 'api_key.txt'\n",
    "with open(URL_FICHERO_API_KEY, 'r') as fichero_api_key:\n",
    "    API_KEY = fichero_api_key.read().strip()"
   ]
  },
  {
   "cell_type": "code",
   "execution_count": 4,
   "id": "cd30dd12-2f8f-4591-953b-39e4ed90f9c0",
   "metadata": {},
   "outputs": [],
   "source": [
    "DIAS_MESES = [31, 28, 31, 30, 31, 30, 31, 31, 30, 31, 30, 31]\n",
    "def generar_intervalos_fechas(anno: int):\n",
    "    res = []\n",
    "    anno_str = str(anno)\n",
    "    anno_bisiesto = anno % 4 == 0 and (anno % 100 != 0 or anno % 400 == 0)\n",
    "    \n",
    "    for mes in range(0, len(DIAS_MESES)):\n",
    "        # Formatear número mes para tener 2 dígitos. Ver si año bisiesto\n",
    "        mes_str = f\"{mes + 1:02d}\"\n",
    "        dias_mes = DIAS_MESES[mes] + (1 if anno_bisiesto and mes == 1 else 0)\n",
    "        \n",
    "        # Primer intervalo\n",
    "        intervalo_1_ini = f\"{anno_str}-{mes_str}-01\"\n",
    "        intervalo_1_fin = f\"{anno_str}-{mes_str}-15\"\n",
    "        intervalo_1 = (intervalo_1_ini, intervalo_1_fin)\n",
    "\n",
    "        # Segundo intervalo\n",
    "        intervalo_2_ini = f\"{anno_str}-{mes_str}-16\"\n",
    "        intervalo_2_fin = f\"{anno_str}-{mes_str}-{dias_mes}\"\n",
    "        intervalo_2 = (intervalo_2_ini, intervalo_2_fin)\n",
    "\n",
    "        res.append(intervalo_1)\n",
    "        res.append(intervalo_2)\n",
    "\n",
    "    print(f\"Intervalos de fechas generados para el año {anno}\")\n",
    "    return res\n"
   ]
  },
  {
   "cell_type": "code",
   "execution_count": 5,
   "id": "3d88658c-53d0-41e3-b29a-b20df3701d34",
   "metadata": {},
   "outputs": [],
   "source": [
    "OBS_URL = (\n",
    "        \"https://opendata.aemet.es/opendata/api/valores/climatologicos/diarios/datos\"\n",
    "        \"/fechaini/{}T00:00:00UTC\"\n",
    "        \"/fechafin/{}T00:00:00UTC\"\n",
    "        \"/todasestaciones\")"
   ]
  },
  {
   "cell_type": "code",
   "execution_count": 6,
   "id": "6778dae7-0dcc-4bd7-8ef7-2e6d9f41a569",
   "metadata": {},
   "outputs": [],
   "source": [
    "ATTEMPT_LIMIT = 3\n",
    "API_COOLDOWN = 60\n",
    "\n",
    "def peticion_api(url: str, api_key: str) -> requests.Response:\n",
    "\n",
    "    # Configuramos header con la api_key\n",
    "    headers = {\n",
    "        'accept': 'application/json',\n",
    "        'api_key': api_key\n",
    "    }\n",
    "\n",
    "    # Reintentamos después de un tiempo en caso de que la API se sature\n",
    "    attempts = 0\n",
    "    while attempts < ATTEMPT_LIMIT:\n",
    "        attempts += 1\n",
    "        response = requests.get(url, headers=headers)\n",
    "\n",
    "        # 429: API saturada\n",
    "        if response.status_code == 429:  # Exceso de peticiones\n",
    "            cooldown = API_COOLDOWN * attempts\n",
    "            \n",
    "            print(f\"Error {response.status_code}: Exceso de peticiones. \"\n",
    "                  f\"Intento {attempts} de {ATTEMPT_LIMIT}. \"\n",
    "                  f\"Esperando {cooldown} segundos...\")\n",
    "            time.sleep(cooldown)\n",
    "\n",
    "        # Retornar cualquier otra respuesta\n",
    "        else:\n",
    "            return response\n",
    "    \n",
    "    # Si agotamos número de reintentos, avisar y devolver última respuesta\n",
    "    print(f\"ERROR: Número de reintentos agotados.\")\n",
    "    return response"
   ]
  },
  {
   "cell_type": "code",
   "execution_count": 7,
   "id": "89561561-3c70-42a8-9191-35301891348f",
   "metadata": {},
   "outputs": [],
   "source": [
    "URL_DATOS = 'datos'\n",
    "STATUS = 'estado'\n",
    "ERR_TEXT = 'descripcion'\n",
    "\n",
    "def procesar_respuesta(response: requests.Response) -> pd.DataFrame:\n",
    "    # Si fallida, imprimir mensaje de error. Devolver df vacío\n",
    "    if response.status_code != 200:\n",
    "        print(f\"Error en la solicitud: {response.status_code} - {response.text}\")\n",
    "        return pd.DataFrame()\n",
    "    \n",
    "    response_json = response.json()\n",
    "    if response_json.get(STATUS) == 200:\n",
    "        url_datos = response_json[URL_DATOS]\n",
    "        datos_response = requests.get(url_datos)\n",
    "        if datos_response.status_code == 200:\n",
    "            return pd.DataFrame(datos_response.json())\n",
    "        else:\n",
    "            print(f\"Error en la sub-solicitud: {datos_response.status_code} - {datos_response.text}\")\n",
    "    else:\n",
    "        print(f\"Error en datos: {response_json.get(STATUS)} - {response_json.get(ERR_TEXT)}\")\n",
    "    \n",
    "    # Si falla en alguno, imprimir error y devolver df vacío\n",
    "    return pd.DataFrame()"
   ]
  },
  {
   "cell_type": "code",
   "execution_count": 8,
   "id": "ecc288c0-4dd9-493a-b3cf-a5472074176f",
   "metadata": {},
   "outputs": [],
   "source": [
    "PATH_DATOS = 'Datos_Annos'\n",
    "NOMBRE_FICHERO_DATOS = 'Anno{}.csv'\n",
    "def generate_csv_anno(anno: int) -> pd.DataFrame:\n",
    "    # Desgranamos el año en intervalos de 15 días para que la API de AEMET OpenData acepte las peticiones\n",
    "    intervalos_fechas = generar_intervalos_fechas(anno)\n",
    "\n",
    "    # Inicializamos el DataFrame\n",
    "    df = pd.DataFrame()\n",
    "\n",
    "    # Recorremos el resto de intervalos y vamos concatenando cada DataFrame respuesta al inicial\n",
    "    for i, intervalo in enumerate(intervalos_fechas):\n",
    "        url = OBS_URL.format(intervalo[0], intervalo[1])\n",
    "        print(f\"Obteniendo datos: {intervalo[0]} - {intervalo[1]}\")\n",
    "\n",
    "        response = peticion_api(url, API_KEY)\n",
    "        next_df = procesar_respuesta(response)\n",
    "\n",
    "        if not next_df.empty:\n",
    "            df = pd.concat([df, next_df], axis = 0)\n",
    "        else:\n",
    "            print(f\"ERROR: No se obtuvieron datos: [{intervalo[0]} - {intervalo[1]}]\")\n",
    "            return None\n",
    "        time.sleep(1) # Evitar sobrecargar la API\n",
    "    \n",
    "    # Exportamos el DataFrame resultante a CSV\n",
    "    df.to_csv(PATH_DATOS + NOMBRE_FICHERO_DATOS.format(anno), sep = ';')\n",
    "    print(f\"Creado CSV para el año {anno}\")\n",
    "    return df\n",
    "    "
   ]
  },
  {
   "cell_type": "code",
   "execution_count": 9,
   "id": "699ce821-a785-4154-94e3-aae2ceb8db5c",
   "metadata": {},
   "outputs": [
    {
     "name": "stdout",
     "output_type": "stream",
     "text": [
      "Intervalos de fechas generados para el año 2024\n",
      "Obteniendo datos: 2024-01-01 - 2024-01-15\n",
      "Error 429: Exceso de peticiones. Intento 1 de 3. Esperando 60 segundos...\n",
      "Error 429: Exceso de peticiones. Intento 2 de 3. Esperando 120 segundos...\n",
      "Obteniendo datos: 2024-01-16 - 2024-01-31\n",
      "Obteniendo datos: 2024-02-01 - 2024-02-15\n",
      "Obteniendo datos: 2024-02-16 - 2024-02-29\n",
      "Obteniendo datos: 2024-03-01 - 2024-03-15\n",
      "Obteniendo datos: 2024-03-16 - 2024-03-31\n",
      "Obteniendo datos: 2024-04-01 - 2024-04-15\n",
      "Obteniendo datos: 2024-04-16 - 2024-04-30\n",
      "Obteniendo datos: 2024-05-01 - 2024-05-15\n",
      "Obteniendo datos: 2024-05-16 - 2024-05-31\n",
      "Obteniendo datos: 2024-06-01 - 2024-06-15\n",
      "Obteniendo datos: 2024-06-16 - 2024-06-30\n",
      "Obteniendo datos: 2024-07-01 - 2024-07-15\n",
      "Obteniendo datos: 2024-07-16 - 2024-07-31\n",
      "Obteniendo datos: 2024-08-01 - 2024-08-15\n",
      "Obteniendo datos: 2024-08-16 - 2024-08-31\n",
      "Obteniendo datos: 2024-09-01 - 2024-09-15\n",
      "Obteniendo datos: 2024-09-16 - 2024-09-30\n",
      "Error 429: Exceso de peticiones. Intento 1 de 3. Esperando 60 segundos...\n",
      "Error 429: Exceso de peticiones. Intento 2 de 3. Esperando 120 segundos...\n",
      "Error 429: Exceso de peticiones. Intento 3 de 3. Esperando 180 segundos...\n",
      "ERROR: Número de reintentos agotados.\n",
      "Error en la solicitud: 429 - {\n",
      "  \"descripcion\" : \"L�mite de peticiones o caudal por minuto excedido para este usuario. Espere al siguiente minuto.\",\n",
      "  \"estado\" : 429\n",
      "}\n",
      "ERROR: No se obtuvieron datos: [2024-09-16 - 2024-09-30]\n"
     ]
    }
   ],
   "source": [
    "generate_csv_anno(2024)"
   ]
  },
  {
   "cell_type": "code",
   "execution_count": 10,
   "id": "4befa8d7-96de-4730-b0f6-e156e492f3ce",
   "metadata": {},
   "outputs": [
    {
     "name": "stdout",
     "output_type": "stream",
     "text": [
      "Fichero de metadatos creado correctamente: metadatos.txt\n"
     ]
    }
   ],
   "source": [
    "# Metadatos\n",
    "URL_METADATOS = 'metadatos'\n",
    "\n",
    "NOMBRE_FICHERO_METADATOS = 'metadatos.txt'\n",
    "\n",
    "url = OBS_URL.format('2024-01-01', '2024-01-02')\n",
    "\n",
    "response = peticion_api(url, API_KEY)\n",
    "\n",
    "if response.status_code != 200:\n",
    "        print(f\"Error en la solicitud: {response.status_code} - {response.text}\")\n",
    "else:    \n",
    "    response_json = response.json()\n",
    "    if response_json.get(STATUS) == 200:\n",
    "        url_metadatos = response_json[URL_METADATOS]\n",
    "        metadatos_response = requests.get(url_metadatos)\n",
    "        if metadatos_response.status_code == 200:\n",
    "            with open(NOMBRE_FICHERO_METADATOS, \"w\") as fichero_metadatos:\n",
    "                fichero_metadatos.write(metadatos_response.text)\n",
    "            print(f\"Fichero de metadatos creado correctamente: {NOMBRE_FICHERO_METADATOS}\")\n",
    "        else:\n",
    "            print(f\"Error en la sub-solicitud: {metadatos_response.status_code} - {metadatos_response.text}\")\n",
    "    else:\n",
    "        print(f\"Error en datos: {response_json.get(STATUS)} - {response_json.get(ERR_TEXT)}\")"
   ]
  }
 ],
 "metadata": {
  "kernelspec": {
   "display_name": "Python 3 (ipykernel)",
   "language": "python",
   "name": "python3"
  },
  "language_info": {
   "codemirror_mode": {
    "name": "ipython",
    "version": 3
   },
   "file_extension": ".py",
   "mimetype": "text/x-python",
   "name": "python",
   "nbconvert_exporter": "python",
   "pygments_lexer": "ipython3",
   "version": "3.12.11"
  }
 },
 "nbformat": 4,
 "nbformat_minor": 5
}
